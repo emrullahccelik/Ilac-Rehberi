{
 "cells": [
  {
   "cell_type": "code",
   "execution_count": 1,
   "metadata": {},
   "outputs": [
    {
     "data": {
      "text/html": [
       "<div>\n",
       "<style scoped>\n",
       "    .dataframe tbody tr th:only-of-type {\n",
       "        vertical-align: middle;\n",
       "    }\n",
       "\n",
       "    .dataframe tbody tr th {\n",
       "        vertical-align: top;\n",
       "    }\n",
       "\n",
       "    .dataframe thead th {\n",
       "        text-align: right;\n",
       "    }\n",
       "</style>\n",
       "<table border=\"1\" class=\"dataframe\">\n",
       "  <thead>\n",
       "    <tr style=\"text-align: right;\">\n",
       "      <th></th>\n",
       "      <th>ilaçAdı</th>\n",
       "      <th>etkinMaddeAdı</th>\n",
       "      <th>firmaAdı</th>\n",
       "      <th>kübOnayTarihi</th>\n",
       "      <th>ktOnayTarihi</th>\n",
       "      <th>kübDocLink</th>\n",
       "      <th>ktDocLink</th>\n",
       "    </tr>\n",
       "  </thead>\n",
       "  <tbody>\n",
       "    <tr>\n",
       "      <th>0</th>\n",
       "      <td>% 0.4 LİDODEKS % 5 DEKSTROZ İÇİNDE İ.V. İNFÜZY...</td>\n",
       "      <td>LİDOKAİN HİDROKLORÜR</td>\n",
       "      <td>POLİFARMA İLAÇ SAN. VE TİC. A.Ş.</td>\n",
       "      <td>05/08/2016</td>\n",
       "      <td>05/08/2016</td>\n",
       "      <td>https://titck.gov.tr/storage/kubKtAttachments/...</td>\n",
       "      <td>https://titck.gov.tr/storage/kubKtAttachments/...</td>\n",
       "    </tr>\n",
       "    <tr>\n",
       "      <th>1</th>\n",
       "      <td>% 0.8 LİDODEKS % 5 DEKSTROZ İÇİNDE İ.V. İNFÜZY...</td>\n",
       "      <td>LİDOKAİN HİDROKLORÜR</td>\n",
       "      <td>POLİFARMA İLAÇ SAN. VE TİCARET A.Ş.</td>\n",
       "      <td>05/08/2016</td>\n",
       "      <td>05/08/2016</td>\n",
       "      <td>https://titck.gov.tr/storage/kubKtAttachments/...</td>\n",
       "      <td>https://titck.gov.tr/storage/kubKtAttachments/...</td>\n",
       "    </tr>\n",
       "    <tr>\n",
       "      <th>2</th>\n",
       "      <td>% 10 DEKSTROZ BIOSEL SUDAKI HIPERTONIK SOLÜSYONU</td>\n",
       "      <td>DEKSTROZ</td>\n",
       "      <td>OSEL ILAÇ SAN. VE TIC.A.Ş.</td>\n",
       "      <td>06/02/2015</td>\n",
       "      <td>06/02/2015</td>\n",
       "      <td>https://titck.gov.tr/storage/kubKtAttachments/...</td>\n",
       "      <td>https://titck.gov.tr/storage/kubKtAttachments/...</td>\n",
       "    </tr>\n",
       "    <tr>\n",
       "      <th>3</th>\n",
       "      <td>% 10 DEKSTROZ BIOSEL SUDAKI HIPERTONIK SOLÜSYONU</td>\n",
       "      <td>DEKSTROZ</td>\n",
       "      <td>OSEL ILAÇ SAN. VE TIC.A.Ş.</td>\n",
       "      <td>06/02/2015</td>\n",
       "      <td>06/02/2015</td>\n",
       "      <td>https://titck.gov.tr/storage/kubKtAttachments/...</td>\n",
       "      <td>https://titck.gov.tr/storage/kubKtAttachments/...</td>\n",
       "    </tr>\n",
       "    <tr>\n",
       "      <th>4</th>\n",
       "      <td>% 10 DEKSTROZ BIOSEL SUDAKI HIPERTONIK SOLÜSYONU</td>\n",
       "      <td>DEKSTROZ</td>\n",
       "      <td>OSEL ILAÇ SAN. VE TIC.A.Ş.</td>\n",
       "      <td>06/02/2015</td>\n",
       "      <td>06/02/2015</td>\n",
       "      <td>https://titck.gov.tr/storage/kubKtAttachments/...</td>\n",
       "      <td>https://titck.gov.tr/storage/kubKtAttachments/...</td>\n",
       "    </tr>\n",
       "  </tbody>\n",
       "</table>\n",
       "</div>"
      ],
      "text/plain": [
       "                                             ilaçAdı         etkinMaddeAdı  \\\n",
       "0  % 0.4 LİDODEKS % 5 DEKSTROZ İÇİNDE İ.V. İNFÜZY...  LİDOKAİN HİDROKLORÜR   \n",
       "1  % 0.8 LİDODEKS % 5 DEKSTROZ İÇİNDE İ.V. İNFÜZY...  LİDOKAİN HİDROKLORÜR   \n",
       "2   % 10 DEKSTROZ BIOSEL SUDAKI HIPERTONIK SOLÜSYONU              DEKSTROZ   \n",
       "3   % 10 DEKSTROZ BIOSEL SUDAKI HIPERTONIK SOLÜSYONU              DEKSTROZ   \n",
       "4   % 10 DEKSTROZ BIOSEL SUDAKI HIPERTONIK SOLÜSYONU              DEKSTROZ   \n",
       "\n",
       "                              firmaAdı kübOnayTarihi ktOnayTarihi  \\\n",
       "0     POLİFARMA İLAÇ SAN. VE TİC. A.Ş.    05/08/2016   05/08/2016   \n",
       "1  POLİFARMA İLAÇ SAN. VE TİCARET A.Ş.    05/08/2016   05/08/2016   \n",
       "2           OSEL ILAÇ SAN. VE TIC.A.Ş.    06/02/2015   06/02/2015   \n",
       "3           OSEL ILAÇ SAN. VE TIC.A.Ş.    06/02/2015   06/02/2015   \n",
       "4           OSEL ILAÇ SAN. VE TIC.A.Ş.    06/02/2015   06/02/2015   \n",
       "\n",
       "                                          kübDocLink  \\\n",
       "0  https://titck.gov.tr/storage/kubKtAttachments/...   \n",
       "1  https://titck.gov.tr/storage/kubKtAttachments/...   \n",
       "2  https://titck.gov.tr/storage/kubKtAttachments/...   \n",
       "3  https://titck.gov.tr/storage/kubKtAttachments/...   \n",
       "4  https://titck.gov.tr/storage/kubKtAttachments/...   \n",
       "\n",
       "                                           ktDocLink  \n",
       "0  https://titck.gov.tr/storage/kubKtAttachments/...  \n",
       "1  https://titck.gov.tr/storage/kubKtAttachments/...  \n",
       "2  https://titck.gov.tr/storage/kubKtAttachments/...  \n",
       "3  https://titck.gov.tr/storage/kubKtAttachments/...  \n",
       "4  https://titck.gov.tr/storage/kubKtAttachments/...  "
      ]
     },
     "execution_count": 1,
     "metadata": {},
     "output_type": "execute_result"
    }
   ],
   "source": [
    "import pandas as pd\n",
    "import numpy as np\n",
    "import requests\n",
    "data = pd.read_csv(\"data/output.csv\", encoding='utf-8-sig')\n",
    "data.head()"
   ]
  },
  {
   "cell_type": "code",
   "execution_count": 2,
   "metadata": {},
   "outputs": [],
   "source": [
    "data[\"kübOnayTarihi\"] = pd.to_datetime(data[\"kübOnayTarihi\"], format=\"%d/%m/%Y\", errors=\"coerce\")\n",
    "data[\"ktOnayTarihi\"] = pd.to_datetime(data[\"ktOnayTarihi\"], format=\"%d/%m/%Y\", errors=\"coerce\")\n"
   ]
  },
  {
   "cell_type": "code",
   "execution_count": 3,
   "metadata": {},
   "outputs": [],
   "source": [
    "nullLink = \"https://titck.gov.tr/storage/kubKtAttachments/\""
   ]
  },
  {
   "cell_type": "code",
   "execution_count": 4,
   "metadata": {},
   "outputs": [],
   "source": [
    "data[\"kübDocLink\"] = data[\"kübDocLink\"].replace(nullLink, np.nan)\n",
    "data[\"ktDocLink\"] = data[\"ktDocLink\"].replace(nullLink, np.nan)"
   ]
  },
  {
   "cell_type": "code",
   "execution_count": 5,
   "metadata": {},
   "outputs": [
    {
     "data": {
      "text/plain": [
       "ilaçAdı                  object\n",
       "etkinMaddeAdı            object\n",
       "firmaAdı                 object\n",
       "kübOnayTarihi    datetime64[ns]\n",
       "ktOnayTarihi     datetime64[ns]\n",
       "kübDocLink               object\n",
       "ktDocLink                object\n",
       "dtype: object"
      ]
     },
     "execution_count": 5,
     "metadata": {},
     "output_type": "execute_result"
    }
   ],
   "source": [
    "data.dtypes"
   ]
  },
  {
   "cell_type": "code",
   "execution_count": 6,
   "metadata": {},
   "outputs": [
    {
     "data": {
      "text/plain": [
       "ilaçAdı          % 0.4 LİDODEKS % 5 DEKSTROZ İÇİNDE İ.V. İNFÜZY...\n",
       "etkinMaddeAdı                                 LİDOKAİN HİDROKLORÜR\n",
       "firmaAdı                          POLİFARMA İLAÇ SAN. VE TİC. A.Ş.\n",
       "kübOnayTarihi                                  2016-08-05 00:00:00\n",
       "ktOnayTarihi                                   2016-08-05 00:00:00\n",
       "kübDocLink       https://titck.gov.tr/storage/kubKtAttachments/...\n",
       "ktDocLink        https://titck.gov.tr/storage/kubKtAttachments/...\n",
       "Name: 0, dtype: object"
      ]
     },
     "execution_count": 6,
     "metadata": {},
     "output_type": "execute_result"
    }
   ],
   "source": [
    "data.iloc[0]"
   ]
  },
  {
   "cell_type": "code",
   "execution_count": 7,
   "metadata": {},
   "outputs": [
    {
     "name": "stdout",
     "output_type": "stream",
     "text": [
      "49\n",
      "0\n"
     ]
    }
   ],
   "source": [
    "print(data.duplicated().sum())\n",
    "data = data.drop_duplicates()\n",
    "print(data.duplicated().sum())"
   ]
  },
  {
   "cell_type": "code",
   "execution_count": 8,
   "metadata": {},
   "outputs": [
    {
     "data": {
      "text/plain": [
       "(14618, 75, 74)"
      ]
     },
     "execution_count": 8,
     "metadata": {},
     "output_type": "execute_result"
    }
   ],
   "source": [
    "sorted_data = data.sort_values(by=[\"kübOnayTarihi\", \"ktOnayTarihi\"], ascending=False)\n",
    "latest_data = sorted_data.drop_duplicates(subset=[\"ilaçAdı\", \"etkinMaddeAdı\", \"firmaAdı\"])\n",
    "len(latest_data), latest_data[\"kübDocLink\"].isna().sum(), latest_data[\"ktDocLink\"].isna().sum()"
   ]
  },
  {
   "cell_type": "code",
   "execution_count": 9,
   "metadata": {},
   "outputs": [
    {
     "data": {
      "text/plain": [
       "(14618, 72, 67)"
      ]
     },
     "execution_count": 9,
     "metadata": {},
     "output_type": "execute_result"
    }
   ],
   "source": [
    "for idx, row in latest_data.iterrows():\n",
    "    original_rows = sorted_data[\n",
    "        (sorted_data[\"ilaçAdı\"] == row[\"ilaçAdı\"]) &\n",
    "        (sorted_data[\"etkinMaddeAdı\"] == row[\"etkinMaddeAdı\"]) &\n",
    "        (sorted_data[\"firmaAdı\"] == row[\"firmaAdı\"])\n",
    "    ]\n",
    "    if pd.isna(row[\"kübDocLink\"]):\n",
    "        # Eğer dropna() boşsa NaN bırak\n",
    "        küb_links = original_rows[\"kübDocLink\"].dropna()\n",
    "        if not küb_links.empty:\n",
    "            latest_data.loc[idx, \"kübDocLink\"] = küb_links.iloc[0]\n",
    "    if pd.isna(row[\"ktDocLink\"]):\n",
    "        # Eğer dropna() boşsa NaN bırak\n",
    "        kt_links = original_rows[\"ktDocLink\"].dropna()\n",
    "        if not kt_links.empty:\n",
    "            latest_data.loc[idx, \"ktDocLink\"] = kt_links.iloc[0]\n",
    "\n",
    "len(latest_data), latest_data[\"kübDocLink\"].isna().sum(), latest_data[\"ktDocLink\"].isna().sum()"
   ]
  },
  {
   "cell_type": "code",
   "execution_count": 10,
   "metadata": {},
   "outputs": [
    {
     "data": {
      "text/plain": [
       "(14618, 72, 67)"
      ]
     },
     "execution_count": 10,
     "metadata": {},
     "output_type": "execute_result"
    }
   ],
   "source": [
    "len(latest_data), latest_data[\"kübDocLink\"].isna().sum(), latest_data[\"ktDocLink\"].isna().sum()"
   ]
  },
  {
   "cell_type": "code",
   "execution_count": 11,
   "metadata": {},
   "outputs": [
    {
     "name": "stdout",
     "output_type": "stream",
     "text": [
      "0\n",
      "None\n"
     ]
    },
    {
     "data": {
      "text/plain": [
       "14617"
      ]
     },
     "execution_count": 11,
     "metadata": {},
     "output_type": "execute_result"
    }
   ],
   "source": [
    "print(print(latest_data.duplicated().sum()))\n",
    "latest_data = latest_data.dropna(subset=[\"kübDocLink\", \"ktDocLink\"], how='all')\n",
    "len(latest_data)"
   ]
  },
  {
   "cell_type": "code",
   "execution_count": null,
   "metadata": {},
   "outputs": [],
   "source": [
    "latest_data.to_csv(\"data/cleanOutput.csv\", index=False, encoding='utf-8-sig')"
   ]
  }
 ],
 "metadata": {
  "kernelspec": {
   "display_name": "Python 3",
   "language": "python",
   "name": "python3"
  },
  "language_info": {
   "codemirror_mode": {
    "name": "ipython",
    "version": 3
   },
   "file_extension": ".py",
   "mimetype": "text/x-python",
   "name": "python",
   "nbconvert_exporter": "python",
   "pygments_lexer": "ipython3",
   "version": "3.10.6"
  }
 },
 "nbformat": 4,
 "nbformat_minor": 2
}
